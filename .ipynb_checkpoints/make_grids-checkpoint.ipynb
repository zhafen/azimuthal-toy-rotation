{
 "cells": [
  {
   "cell_type": "code",
   "execution_count": null,
   "id": "12136480-9482-43ac-8f8d-fb5beda93851",
   "metadata": {},
   "outputs": [],
   "source": [
    "import numpy as np"
   ]
  },
  {
   "cell_type": "code",
   "execution_count": null,
   "id": "3fa9bd0d-94a3-4198-b4da-edeea3a8bafa",
   "metadata": {},
   "outputs": [],
   "source": [
    "import tqdm"
   ]
  },
  {
   "cell_type": "code",
   "execution_count": null,
   "id": "64af7fcc-12ea-4a37-9c44-390b834cbd26",
   "metadata": {},
   "outputs": [],
   "source": [
    "import scipy\n",
    "import scipy.interpolate"
   ]
  },
  {
   "cell_type": "code",
   "execution_count": null,
   "id": "7da1c4b0-4b5d-4b31-be49-70d1c83d733f",
   "metadata": {},
   "outputs": [],
   "source": [
    "import unyt"
   ]
  },
  {
   "cell_type": "code",
   "execution_count": null,
   "id": "820d1a85-e340-411d-af0c-527e367c1b85",
   "metadata": {},
   "outputs": [],
   "source": [
    "import matplotlib\n",
    "import matplotlib.pyplot as plt"
   ]
  },
  {
   "cell_type": "code",
   "execution_count": null,
   "id": "c929bb4f-9f48-44e0-b9f7-cffcb2d16cb8",
   "metadata": {},
   "outputs": [],
   "source": [
    "import verdict"
   ]
  },
  {
   "cell_type": "markdown",
   "id": "8afe7433-2575-4c79-bf5a-5bdf561ef57e",
   "metadata": {},
   "source": [
    "# Load Data"
   ]
  },
  {
   "cell_type": "markdown",
   "id": "c0c7068a-7293-4141-88b3-16b766738d48",
   "metadata": {},
   "source": [
    "## Yakov's Data"
   ]
  },
  {
   "cell_type": "code",
   "execution_count": null,
   "id": "13958410-c9d8-4a22-9476-af5c67989b74",
   "metadata": {},
   "outputs": [],
   "source": [
    "temp1 = np.loadtxt('./data/datafile1.txt',skiprows=36);\n",
    "temp2 = np.loadtxt('./data/datafile2.txt',skiprows=32);\n",
    "r = temp1[:,0] * unyt.kpc\n",
    "novi = temp1[:,18] * unyt.cm**-3\n",
    "rho = temp2[:,0]\n",
    "Novi = temp2[:,14] * unyt.cm**-2"
   ]
  },
  {
   "cell_type": "code",
   "execution_count": null,
   "id": "ef9f7129-1cdf-463a-a168-77fc8076dd5d",
   "metadata": {},
   "outputs": [],
   "source": [
    "novi_interp = scipy.interpolate.interp1d( r, novi )\n",
    "Novi_interp = scipy.interpolate.interp1d( r, Novi )"
   ]
  },
  {
   "cell_type": "code",
   "execution_count": null,
   "id": "03785287-b43d-455d-8af8-9d37a9e497c1",
   "metadata": {},
   "outputs": [],
   "source": [
    "profiles = verdict.Dict.from_hdf5( './data/pressure_profiles.hdf5' )"
   ]
  },
  {
   "cell_type": "code",
   "execution_count": null,
   "id": "b03c6e38-a1a3-4d05-9015-79b9c9f9c01b",
   "metadata": {},
   "outputs": [],
   "source": [
    "vcirc = profiles['m12i_md']['potential profiles']['vcirc'][:44]\n",
    "r_for_profile = np.abs( profiles['m12i_md']['potential profiles']['radius'] )[:44]"
   ]
  },
  {
   "cell_type": "code",
   "execution_count": null,
   "id": "50f0b0c7-7528-43e5-b0e4-312c8b4c5b15",
   "metadata": {},
   "outputs": [],
   "source": [
    "vcirc_interp = scipy.interpolate.interp1d( r_for_profile, vcirc )"
   ]
  },
  {
   "cell_type": "code",
   "execution_count": null,
   "id": "f70801f0-0d82-425f-a36a-6427a11f804b",
   "metadata": {},
   "outputs": [],
   "source": [
    "fig = plt.figure()\n",
    "ax = plt.gca()\n",
    "\n",
    "ax.plot(\n",
    "    r_for_profile,\n",
    "    vcirc,\n",
    ")"
   ]
  },
  {
   "cell_type": "markdown",
   "id": "4f850aae-c9c0-420d-be3f-bf11ca74aed1",
   "metadata": {},
   "source": [
    "# Make Grids"
   ]
  },
  {
   "cell_type": "code",
   "execution_count": null,
   "id": "6407789e-f892-46e2-a1f4-535a45f27ca7",
   "metadata": {},
   "outputs": [],
   "source": [
    "n_points = 64\n",
    "r_max = r.max()\n",
    "x_points = np.linspace( -r_max, r_max, n_points )\n",
    "y_points = np.linspace( -r_max, r_max, n_points )\n",
    "z_points = np.linspace( -r_max, r_max, n_points )\n",
    "colden_grid = np.zeros( (n_points, n_points ) ) * unyt.cm**-2.\n",
    "vlos_grid = np.zeros( (n_points, n_points ) ) * unyt.cm**-2. * unyt.km / unyt.s\n",
    "dl = x_points[1] - x_points[0]"
   ]
  },
  {
   "cell_type": "code",
   "execution_count": null,
   "id": "e44c8cbe-7eb7-4a3c-8cb9-5f2c99a49f18",
   "metadata": {},
   "outputs": [],
   "source": [
    "# Loop through and make column density\n",
    "for i, x in enumerate( tqdm.tqdm( x_points ) ):\n",
    "    for j, y in enumerate( y_points ):\n",
    "        for k, z in enumerate( z_points ):\n",
    "            \n",
    "            r_ = np.sqrt( x**2. + y**2. + z**2. )\n",
    "            \n",
    "            if ( r_ < r.min() ) or ( r_ < r_for_profile.min() ):\n",
    "                continue\n",
    "            elif ( r_ > r_max ) or ( r_ > r_for_profile.max() ):\n",
    "                continue\n",
    "            else:\n",
    "                novi_ = novi_interp( r_ ) * unyt.cm**-3.\n",
    "                \n",
    "            # Get velocity, assuming cylindrical rotation\n",
    "            phihat = np.cross( [ x, y, z ], [0, 0, 1] )\n",
    "            phihat /= np.linalg.norm( phihat )\n",
    "            v = vcirc_interp( r_ ) * phihat\n",
    "            \n",
    "            # Project\n",
    "            vlos = np.dot( v, [ 0, 1, 0 ] ) * unyt.km / unyt.s\n",
    "            \n",
    "            # Add column density\n",
    "            colden_grid[i,k] += dl * novi_\n",
    "            vlos_grid[i,k] += dl * novi_ * vlos\n",
    "vlos_grid /= colden_grid"
   ]
  },
  {
   "cell_type": "code",
   "execution_count": null,
   "id": "6d386c8e-836d-400c-8056-06552f141cc1",
   "metadata": {},
   "outputs": [],
   "source": [
    "# Alternative column density grid\n",
    "more_accurate_colden_grid = np.zeros( (n_points, n_points ) ) * unyt.cm**-2.\n",
    "for i, x in enumerate( tqdm.tqdm( x_points ) ):\n",
    "    for k, z in enumerate( z_points ):\n",
    "        \n",
    "        y = 0.\n",
    "        \n",
    "        r_ = np.sqrt( x**2. + y**2. + z**2. )\n",
    "\n",
    "        if ( r_ < r.min() ) or ( r_ < r_for_profile.min() ):\n",
    "            continue\n",
    "        elif ( r_ > r_max ) or ( r_ > r_for_profile.max() ):\n",
    "            continue\n",
    "        else:\n",
    "            novi_ = novi_interp( r_ ) * unyt.cm**-3.\n",
    "        \n",
    "        more_accurate_colden_grid[i,k] = Novi_interp( r_ )\n",
    "        "
   ]
  },
  {
   "cell_type": "code",
   "execution_count": null,
   "id": "fb40933a-f78b-4f70-9d56-4b7fa0bd62d6",
   "metadata": {},
   "outputs": [],
   "source": [
    "more_accurate_colden_grid"
   ]
  },
  {
   "cell_type": "code",
   "execution_count": null,
   "id": "84ee3b39-6edf-4758-a536-fc148347d3ba",
   "metadata": {},
   "outputs": [],
   "source": [
    "fig = plt.figure()\n",
    "ax = plt.gca()\n",
    "\n",
    "ax.pcolormesh(\n",
    "    colden_grid.transpose(),\n",
    ")\n",
    "\n",
    "ax.set_aspect( 'equal' )"
   ]
  },
  {
   "cell_type": "code",
   "execution_count": null,
   "id": "40d2046e-62f4-4154-a5be-c942773df1e3",
   "metadata": {},
   "outputs": [],
   "source": [
    "fig = plt.figure()\n",
    "ax = plt.gca()\n",
    "\n",
    "ax.pcolormesh(\n",
    "    more_accurate_colden_grid.transpose(),\n",
    ")\n",
    "\n",
    "ax.set_aspect( 'equal' )"
   ]
  },
  {
   "cell_type": "code",
   "execution_count": null,
   "id": "a9bd93de-f439-4692-a540-4b6304cfc7da",
   "metadata": {},
   "outputs": [],
   "source": [
    "fig = plt.figure()\n",
    "ax = plt.gca()\n",
    "\n",
    "ax.pcolormesh(\n",
    "    vlos_grid.transpose(),\n",
    "    cmap = 'bwr',\n",
    ")\n",
    "\n",
    "ax.set_aspect( 'equal' )"
   ]
  },
  {
   "cell_type": "markdown",
   "id": "67b7b4d2-2e36-4be7-ba22-6f92ac9155ad",
   "metadata": {},
   "source": [
    "# Save"
   ]
  },
  {
   "cell_type": "code",
   "execution_count": null,
   "id": "b792c515-30e0-4056-8bc8-424f9c23f1b6",
   "metadata": {},
   "outputs": [],
   "source": [
    "toy_grids = verdict.Dict({})\n",
    "toy_grids['N_OVI'] = more_accurate_colden_grid\n",
    "toy_grids['N_OVI_used_for_vlos'] = colden_grid\n",
    "toy_grids['vlos_from_vcirc'] = vlos_grid\n",
    "toy_grids['vlos_zero'] = np.zeros( vlos_grid.shape )\n",
    "toy_grids['points'] = x_points\n",
    "toy_grids.to_hdf5( './data/toy_grids.h5' )"
   ]
  },
  {
   "cell_type": "code",
   "execution_count": null,
   "id": "193e2542-1d8b-4638-9be3-aff527488a88",
   "metadata": {},
   "outputs": [],
   "source": []
  }
 ],
 "metadata": {
  "kernelspec": {
   "display_name": "Python 3 (ipykernel)",
   "language": "python",
   "name": "python3"
  },
  "language_info": {
   "codemirror_mode": {
    "name": "ipython",
    "version": 3
   },
   "file_extension": ".py",
   "mimetype": "text/x-python",
   "name": "python",
   "nbconvert_exporter": "python",
   "pygments_lexer": "ipython3",
   "version": "3.9.7"
  }
 },
 "nbformat": 4,
 "nbformat_minor": 5
}
