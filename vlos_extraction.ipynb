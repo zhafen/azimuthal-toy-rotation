{
 "cells": [
  {
   "cell_type": "code",
   "execution_count": null,
   "metadata": {},
   "outputs": [],
   "source": [
    "import h5py\n",
    "import numpy as np\n",
    "import os\n",
    "import scipy\n",
    "import verdict"
   ]
  },
  {
   "cell_type": "code",
   "execution_count": null,
   "metadata": {},
   "outputs": [],
   "source": [
    "import galaxy_dive.analyze_data.particle_data as particle_data\n",
    "import galaxy_dive.plot_data.generic_plotter as generic_plotter\n",
    "import galaxy_dive.utils.astro as astro_utils\n",
    "import galaxy_dive.plot_data.plotting as plotting"
   ]
  },
  {
   "cell_type": "code",
   "execution_count": null,
   "metadata": {},
   "outputs": [],
   "source": [
    "import galaxy_dive.utils.data_operations as data_operations"
   ]
  },
  {
   "cell_type": "markdown",
   "metadata": {},
   "source": [
    "# Load Galaxy Data"
   ]
  },
  {
   "cell_type": "code",
   "execution_count": null,
   "metadata": {},
   "outputs": [],
   "source": [
    "snum = 600\n",
    "sim_data_dir = '/scratch/projects/xsede/GalaxiesOnFIRE/core/m12i_res7100/output'\n",
    "halo_data_dir = '/scratch/03057/zhafen/halo_files/core/m12i_res7100'"
   ]
  },
  {
   "cell_type": "code",
   "execution_count": null,
   "metadata": {},
   "outputs": [],
   "source": [
    "d_data = particle_data.ParticleData(\n",
    "    sdir = sim_data_dir,\n",
    "    halo_data_dir = halo_data_dir,\n",
    "    snum = snum,\n",
    "    ptype = 1,\n",
    "    main_halo_id = 0,\n",
    ")"
   ]
  },
  {
   "cell_type": "code",
   "execution_count": null,
   "metadata": {},
   "outputs": [],
   "source": [
    "d_plotter = generic_plotter.GenericPlotter( d_data )"
   ]
  },
  {
   "cell_type": "markdown",
   "metadata": {},
   "source": [
    "# Rotate"
   ]
  },
  {
   "cell_type": "code",
   "execution_count": null,
   "metadata": {},
   "outputs": [],
   "source": [
    "pos = data_operations.align_axes(\n",
    "    d_data.get_data( 'P' ).transpose(),\n",
    "    d_data.total_ang_momentum,\n",
    ")"
   ]
  },
  {
   "cell_type": "code",
   "execution_count": null,
   "metadata": {},
   "outputs": [],
   "source": [
    "vel = data_operations.align_axes(\n",
    "    d_data.get_data( 'V' ).transpose(),\n",
    "    d_data.total_ang_momentum,\n",
    ")"
   ]
  },
  {
   "cell_type": "markdown",
   "metadata": {},
   "source": [
    "### Make sure it looks okay"
   ]
  },
  {
   "cell_type": "code",
   "execution_count": null,
   "metadata": {},
   "outputs": [],
   "source": [
    "%matplotlib inline\n",
    "fig = plt.figure( figsize=(6,6), facecolor='w' )\n",
    "ax = plt.gca()\n",
    "\n",
    "_ = ax.hist2d(\n",
    "    pos[:,0],\n",
    "    pos[:,1],\n",
    "    bins = [ np.linspace( -10, 10, 128 ), ] * 2,\n",
    "    norm = matplotlib.colors.LogNorm(),\n",
    ")\n",
    "\n",
    "ax.set_aspect( 'equal' )\n"
   ]
  },
  {
   "cell_type": "markdown",
   "metadata": {},
   "source": [
    "# Convert to polar"
   ]
  },
  {
   "cell_type": "code",
   "execution_count": null,
   "metadata": {},
   "outputs": [],
   "source": [
    "x = pos[:,0]\n",
    "y = pos[:,1]\n",
    "z = pos[:,2]"
   ]
  },
  {
   "cell_type": "code",
   "execution_count": null,
   "metadata": {},
   "outputs": [],
   "source": [
    "r = np.sqrt( x**2. + y**2. + z**2. )\n",
    "s = np.sqrt( x**2. + y**2. )\n",
    "phi = np.arctan2( y, x )"
   ]
  },
  {
   "cell_type": "code",
   "execution_count": null,
   "metadata": {},
   "outputs": [],
   "source": [
    "in_halo = r < d_data.r_vir"
   ]
  },
  {
   "cell_type": "code",
   "execution_count": null,
   "metadata": {},
   "outputs": [],
   "source": [
    "rhat = pos / r[:,np.newaxis]\n",
    "phihat = np.cross( rhat, np.array([0,0,1]) )"
   ]
  },
  {
   "cell_type": "code",
   "execution_count": null,
   "metadata": {},
   "outputs": [],
   "source": [
    "vr = np.array([ np.dot( vel, rhat[i] ) for i, vel in enumerate( vel ) ])\n",
    "vz = vel[:,2]\n",
    "vphi = np.array([ np.dot( vel, phihat[i] ) for i, vel in enumerate( vel ) ])"
   ]
  },
  {
   "cell_type": "code",
   "execution_count": null,
   "metadata": {},
   "outputs": [],
   "source": [
    "# Mass\n",
    "\n",
    "fig = plt.figure( figsize=(6,6), facecolor='w' )\n",
    "ax = plt.gca()\n",
    "\n",
    "s_edges = np.linspace( 0, d_data.r_vir, 128 )\n",
    "z_edges = np.linspace( 0, d_data.r_vir, 128 )\n",
    "hist, _, _, img = ax.hist2d(\n",
    "    s,\n",
    "    np.abs( z ),\n",
    "    bins = [ s_edges, z_edges, ],\n",
    "    norm = matplotlib.colors.LogNorm(),\n",
    ")\n",
    "\n",
    "ax.set_aspect( 'equal' )\n"
   ]
  },
  {
   "cell_type": "code",
   "execution_count": null,
   "metadata": {},
   "outputs": [],
   "source": [
    "# Weighted\n",
    "\n",
    "fig = plt.figure( figsize=(6,6), facecolor='w' )\n",
    "ax = plt.gca()\n",
    "\n",
    "weighted_hist, _, _, img = ax.hist2d(\n",
    "    s,\n",
    "    np.abs( z ),\n",
    "    weights = vphi,\n",
    "    bins = [ s_edges, z_edges, ],\n",
    "#     norm = matplotlib.colors.Normalize( vmin=-150, vmax=150 ),\n",
    ")\n",
    "\n",
    "ax.set_aspect( 'equal' )\n"
   ]
  },
  {
   "cell_type": "code",
   "execution_count": null,
   "metadata": {},
   "outputs": [],
   "source": [
    "avg_vphi = ( weighted_hist / hist ).transpose()"
   ]
  },
  {
   "cell_type": "code",
   "execution_count": null,
   "metadata": {},
   "outputs": [],
   "source": [
    "# Average\n",
    "\n",
    "fig = plt.figure( figsize=(10,10), facecolor='w' )\n",
    "ax = plt.gca()\n",
    "\n",
    "img = ax.pcolormesh(\n",
    "    s_edges, z_edges, avg_vphi,\n",
    "    vmin = -150,\n",
    "    vmax = 150,\n",
    "    cmap = 'bwr',\n",
    ")\n",
    "\n",
    "ax.set_aspect( 'equal' )\n",
    "\n",
    "plotting.add_colorbar(\n",
    "    fig,\n",
    "    img\n",
    ")\n"
   ]
  },
  {
   "cell_type": "code",
   "execution_count": null,
   "metadata": {},
   "outputs": [],
   "source": [
    "import copy"
   ]
  },
  {
   "cell_type": "code",
   "execution_count": null,
   "metadata": {},
   "outputs": [],
   "source": [
    "vmin = -100\n",
    "vmax = 0"
   ]
  },
  {
   "cell_type": "code",
   "execution_count": null,
   "metadata": {},
   "outputs": [],
   "source": [
    "avg_vphi_smooth = copy.deepcopy( avg_vphi )\n",
    "avg_vphi_smooth[avg_vphi<vmin] = vmin\n",
    "avg_vphi_smooth[avg_vphi>vmax] = vmax"
   ]
  },
  {
   "cell_type": "code",
   "execution_count": null,
   "metadata": {},
   "outputs": [],
   "source": [
    "avg_vphi_smooth = scipy.ndimage.filters.gaussian_filter( avg_vphi_smooth, 3 )"
   ]
  },
  {
   "cell_type": "code",
   "execution_count": null,
   "metadata": {},
   "outputs": [],
   "source": [
    "# Smoothed average\n",
    "\n",
    "fig = plt.figure( figsize=(10,10), facecolor='w' )\n",
    "ax = plt.gca()\n",
    "\n",
    "img = ax.pcolormesh(\n",
    "    s_edges, z_edges, avg_vphi_smooth,\n",
    "    vmin = -150,\n",
    "    vmax = 150,\n",
    "    cmap = 'bwr',\n",
    ")\n",
    "\n",
    "ax.set_aspect( 'equal' )\n",
    "\n",
    "plotting.add_colorbar(\n",
    "    fig,\n",
    "    img\n",
    ")\n"
   ]
  },
  {
   "cell_type": "code",
   "execution_count": null,
   "metadata": {},
   "outputs": [],
   "source": [
    "d_data.halo_data.get_profile_data(\n",
    "    'Vc'\n",
    ")"
   ]
  },
  {
   "cell_type": "code",
   "execution_count": null,
   "metadata": {},
   "outputs": [],
   "source": []
  }
 ],
 "metadata": {
  "kernelspec": {
   "display_name": "Python 3",
   "language": "python",
   "name": "python3"
  },
  "language_info": {
   "codemirror_mode": {
    "name": "ipython",
    "version": 3
   },
   "file_extension": ".py",
   "mimetype": "text/x-python",
   "name": "python",
   "nbconvert_exporter": "python",
   "pygments_lexer": "ipython3",
   "version": "3.9.1"
  }
 },
 "nbformat": 4,
 "nbformat_minor": 4
}
